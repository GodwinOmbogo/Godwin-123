{
 "cells": [
  {
   "cell_type": "code",
   "execution_count": 1,
   "id": "d2a5efa6",
   "metadata": {},
   "outputs": [],
   "source": [
    "import cmath"
   ]
  },
  {
   "cell_type": "code",
   "execution_count": 3,
   "id": "5d8a6650",
   "metadata": {},
   "outputs": [
    {
     "name": "stdout",
     "output_type": "stream",
     "text": [
      "Enter the coefficient of x sq: 2\n",
      "Enter the coefficient of x : 4\n",
      "Enter the constant of c sq: 10\n",
      "The two possible roots are (-1-2j) and (-1+2j)\n"
     ]
    }
   ],
   "source": [
    "# python program to solve quadratic equation \n",
    "\n",
    "a = int(input(\"Enter the coefficient of x sq: \"))\n",
    "b = int(input(\"Enter the coefficient of x : \"))\n",
    "c = int(input(\"Enter the constant of c sq: \"))\n",
    "\n",
    "# calculate the discriminant\n",
    "\n",
    "d = (b**2) - (4*a*c)\n",
    "\n",
    "# find two root values\n",
    "\n",
    "root_1 = (-b-cmath.sqrt(d))/(2*a)\n",
    "root_2 = (-b+cmath.sqrt(d))/(2*a)\n",
    "\n",
    "print(\"The two possible roots are {0} and {1}\".format(root_1,root_2))"
   ]
  },
  {
   "cell_type": "code",
   "execution_count": 4,
   "id": "f0d5d213",
   "metadata": {},
   "outputs": [
    {
     "name": "stdout",
     "output_type": "stream",
     "text": [
      "Enter a: 10\n",
      "Enter b: 20\n",
      "The maximum of two numbers is :  20\n"
     ]
    }
   ],
   "source": [
    "#maximum of two numbers in python\n",
    "\n",
    "a = int(input('Enter a: '))\n",
    "b = int(input('Enter b: '))\n",
    "\n",
    "Maximum = max(a, b) \n",
    "\n",
    "print('The maximum of two numbers is : ', Maximum)"
   ]
  },
  {
   "cell_type": "code",
   "execution_count": 7,
   "id": "50a7f729",
   "metadata": {},
   "outputs": [
    {
     "name": "stdout",
     "output_type": "stream",
     "text": [
      "Enter any number to check if number is ODD or EVEN: 10\n",
      "The number is: EVEN\n"
     ]
    }
   ],
   "source": [
    "# python program to check if number is ODD or EVEN\n",
    "\n",
    "no = int(input(\"Enter any number to check if number is ODD or EVEN: \"))\n",
    "\n",
    "if(no % 2) == 0:\n",
    "    print('The number is: EVEN')\n",
    "else:\n",
    "    print('The number is: ODD')"
   ]
  },
  {
   "cell_type": "code",
   "execution_count": null,
   "id": "7dc14580",
   "metadata": {},
   "outputs": [],
   "source": []
  }
 ],
 "metadata": {
  "kernelspec": {
   "display_name": "Python 3 (ipykernel)",
   "language": "python",
   "name": "python3"
  },
  "language_info": {
   "codemirror_mode": {
    "name": "ipython",
    "version": 3
   },
   "file_extension": ".py",
   "mimetype": "text/x-python",
   "name": "python",
   "nbconvert_exporter": "python",
   "pygments_lexer": "ipython3",
   "version": "3.9.12"
  }
 },
 "nbformat": 4,
 "nbformat_minor": 5
}
